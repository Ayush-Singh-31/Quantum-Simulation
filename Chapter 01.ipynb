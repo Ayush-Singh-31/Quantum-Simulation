{
 "cells": [
  {
   "cell_type": "markdown",
   "metadata": {},
   "source": [
    "# **Binary Number Operations and Representations**\n",
    "\n",
    "### 1. Binary Number Initialization and Conversion\n",
    "\n",
    "```python\n",
    "x = 0b1101\n",
    "print(\"Binary to Decimal (x):\", x)\n",
    "print(\"Type of x:\", type(x))\n",
    "```\n",
    "\n",
    "`0b1101` represents a binary literal. It is automatically interpreted as a decimal integer."
   ]
  },
  {
   "cell_type": "code",
   "execution_count": 1,
   "metadata": {},
   "outputs": [
    {
     "name": "stdout",
     "output_type": "stream",
     "text": [
      "Binary to Decimal (x): 13\n",
      "Type of x: <class 'int'>\n"
     ]
    }
   ],
   "source": [
    "x = 0b1101\n",
    "print(\"Binary to Decimal (x):\", x)\n",
    "print(\"Type of x:\", type(x))"
   ]
  },
  {
   "cell_type": "markdown",
   "metadata": {},
   "source": [
    "### 2. Binary Arithmetic Operations\n",
    "\n",
    "Binary literals can be directly used in arithmetic operations. Here, `0b1` (1 in decimal) is added to `0b1010` (10 in decimal)."
   ]
  },
  {
   "cell_type": "code",
   "execution_count": 2,
   "metadata": {},
   "outputs": [
    {
     "name": "stdout",
     "output_type": "stream",
     "text": [
      "Result of 0b1 + 0b1010: 11\n"
     ]
    }
   ],
   "source": [
    "result = 0b1 + 0b1010\n",
    "print(\"Result of 0b1 + 0b1010:\", result)"
   ]
  },
  {
   "cell_type": "markdown",
   "metadata": {},
   "source": [
    "### 3. Binary Representation of Integers\n",
    "\n",
    "The `bin()` function converts a decimal integer to its binary representation as a string prefixed with `0b`."
   ]
  },
  {
   "cell_type": "code",
   "execution_count": 3,
   "metadata": {},
   "outputs": [
    {
     "name": "stdout",
     "output_type": "stream",
     "text": [
      "Binary representation of 13: 0b1101\n",
      "Type of b: <class 'str'>\n"
     ]
    }
   ],
   "source": [
    "b = bin(13)\n",
    "print(\"Binary representation of 13:\", b)\n",
    "print(\"Type of b:\", type(b))"
   ]
  },
  {
   "cell_type": "markdown",
   "metadata": {},
   "source": [
    "### 4. Concatenation of Binary Strings\n",
    "\n",
    "Binary representations are strings. Concatenating them does not perform arithmetic."
   ]
  },
  {
   "cell_type": "code",
   "execution_count": 4,
   "metadata": {},
   "outputs": [
    {
     "name": "stdout",
     "output_type": "stream",
     "text": [
      "Concatenation of binary strings (bin(5) + bin(7)): 0b1010b111\n"
     ]
    }
   ],
   "source": [
    "binary_concat = bin(5) + bin(7)\n",
    "print(\"Concatenation of binary strings (bin(5) + bin(7)):\", binary_concat)"
   ]
  },
  {
   "cell_type": "markdown",
   "metadata": {},
   "source": [
    "### 5. Converting Binary Strings to Integers\n",
    "\n",
    "`int(binary_string, 2)` converts a binary string to its integer equivalent."
   ]
  },
  {
   "cell_type": "code",
   "execution_count": 5,
   "metadata": {},
   "outputs": [
    {
     "name": "stdout",
     "output_type": "stream",
     "text": [
      "Integer conversion from binary b1: 5\n",
      "Integer conversion from binary b2: 2\n",
      "Sum of x1 and x2: 7\n"
     ]
    }
   ],
   "source": [
    "b1 = bin(5)\n",
    "b2 = bin(2)\n",
    "x1 = int(b1, 2)\n",
    "x2 = int(b2, 2)\n",
    "print(\"Integer conversion from binary b1:\", x1)\n",
    "print(\"Integer conversion from binary b2:\", x2)\n",
    "print(\"Sum of x1 and x2:\", x1 + x2)\n"
   ]
  },
  {
   "cell_type": "markdown",
   "metadata": {},
   "source": [
    "### 6. Manual Binary String Conversion\n",
    "\n",
    "This demonstrates manual conversion of a plain binary string (not prefixed with `0b`) to an integer."
   ]
  },
  {
   "cell_type": "code",
   "execution_count": 6,
   "metadata": {},
   "outputs": [
    {
     "name": "stdout",
     "output_type": "stream",
     "text": [
      "Conversion from binary string '1101' to integer: 13\n"
     ]
    }
   ],
   "source": [
    "b3 = '1101'\n",
    "x3 = int(b3, 2)\n",
    "print(\"Conversion from binary string '1101' to integer:\", x3)"
   ]
  },
  {
   "cell_type": "markdown",
   "metadata": {},
   "source": [
    "### 7. Binary Representations with Fixed Width \n",
    "\n",
    "#### Using `zfill()`\n",
    "\n",
    "`zfill()` ensures all binary strings are zero-padded to 3 digits for consistency.\n",
    "\n",
    "#### Using `numpy.binary_repr()`\n",
    "\n",
    "`numpy.binary_repr(value, width)` provides binary representations with a specified minimum width."
   ]
  },
  {
   "cell_type": "code",
   "execution_count": 7,
   "metadata": {},
   "outputs": [
    {
     "name": "stdout",
     "output_type": "stream",
     "text": [
      "000\n",
      "001\n",
      "010\n",
      "011\n",
      "100\n",
      "101\n",
      "110\n",
      "111\n"
     ]
    }
   ],
   "source": [
    "for i in range(8):\n",
    "    print(bin(i)[2:].zfill(3))"
   ]
  },
  {
   "cell_type": "code",
   "execution_count": 8,
   "metadata": {},
   "outputs": [
    {
     "name": "stdout",
     "output_type": "stream",
     "text": [
      "0000\n",
      "0001\n",
      "0010\n",
      "0011\n",
      "0100\n",
      "0101\n",
      "0110\n",
      "0111\n"
     ]
    }
   ],
   "source": [
    "import numpy as np\n",
    "for i in range(8):\n",
    "    print(np.binary_repr(i, 4))"
   ]
  }
 ],
 "metadata": {
  "kernelspec": {
   "display_name": "Quantum",
   "language": "python",
   "name": "python3"
  },
  "language_info": {
   "codemirror_mode": {
    "name": "ipython",
    "version": 3
   },
   "file_extension": ".py",
   "mimetype": "text/x-python",
   "name": "python",
   "nbconvert_exporter": "python",
   "pygments_lexer": "ipython3",
   "version": "3.12.1"
  }
 },
 "nbformat": 4,
 "nbformat_minor": 2
}
