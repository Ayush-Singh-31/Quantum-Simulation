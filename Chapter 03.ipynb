{
 "cells": [
  {
   "cell_type": "markdown",
   "metadata": {},
   "source": [
    "# **Reversible Logic & Circuits**"
   ]
  },
  {
   "cell_type": "markdown",
   "metadata": {},
   "source": [
    "1. **Energy Dissipation and Information Loss**\n",
    "   - Classical computing often loses information during operations like the AND gate, leading to energy dissipation.  \n",
    "   - In quantum computing, gates must be reversible (unitary), so information isn’t lost. This property is critical for maintaining quantum coherence.\n",
    "\n",
    "2. **NOT Gate (X Gate)**\n",
    "   - Conceptually reversible: applying it twice returns you to your original state.  \n",
    "   - In quantum computing, we typically represent the NOT gate as the Pauli-X gate (a box with an “X”).\n",
    "\n",
    "3. **XOR Gate and Controlled Gates**\n",
    "   - XOR by itself isn’t reversible because you lose one input.  \n",
    "   - In a quantum circuit, we can make it reversible by including both original inputs in the output (e.g., giving `a` and `a XOR b` as outputs).  \n",
    "   - The “controlled-X” (CNOT) gate is a standard quantum gate where the state of one qubit (“control”) determines whether to apply the X gate to another qubit (“target”).\n",
    "\n",
    "4. **Reversible AND (Using Toffoli / CCNOT)**\n",
    "   - A Toffoli gate has two control lines and one target line.  \n",
    "   - If we pass in `a`, `b`, and an ancilla qubit initialized to 0 (let’s call it `c`), the output can represent an AND operation without losing information.  \n",
    "   - Changing `c` from 0 to 1 flips the operation (like inverting the AND).\n",
    "\n",
    "5. **Reversible OR Gate**\n",
    "   - OR can be expressed using the negation of two inputs (De Morgan’s laws).  \n",
    "   - We can build a reversible version by combining reversible NOT and AND gates (and possibly ancilla bits) so all original inputs can be recovered.\n",
    "\n",
    "6. **Forward-Then-Reverse Circuit Execution**\n",
    "   - In a fully reversible (or quantum) circuit, running the gates in the forward direction, then reversing them, returns the system to its original state.  \n",
    "   - This reversibility is key in quantum computing because every operation must preserve the overall quantum state.\n",
    "\n",
    "When we move from classical to quantum computing, these reversible gates (like the Pauli-X, CNOT, and Toffoli) are fundamental building blocks. They ensure no net loss of information, helping maintain quantum coherence and enabling complex algorithms like Shor’s or Grover’s to work without dissipating unnecessary energy."
   ]
  }
 ],
 "metadata": {
  "language_info": {
   "name": "python"
  }
 },
 "nbformat": 4,
 "nbformat_minor": 2
}
