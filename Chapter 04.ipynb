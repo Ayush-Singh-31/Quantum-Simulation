{
 "cells": [
  {
   "cell_type": "markdown",
   "metadata": {},
   "source": [
    "# **Dirac notation & Quantum Products**"
   ]
  },
  {
   "cell_type": "markdown",
   "metadata": {},
   "source": [
    "## **Dirac Notation**\n",
    "\n",
    "Bra-Ket notation, also known as **Dirac notation**, is a standard formalism used in quantum mechanics and quantum computing to describe quantum states. It provides a compact and elegant way to represent vectors in a complex vector space (Hilbert space).\n",
    "\n",
    "## Definitions\n",
    "\n",
    "### 1. Ket Vector\n",
    "A **ket** represents a column vector in a Hilbert space, denoted as:\n",
    "\n",
    "$$\n",
    "|\\psi\\rangle\n",
    "$$\n",
    "\n",
    "- $|\\cdot\\rangle$ is the ket symbol.\n",
    "- $|\\psi\\rangle$ is a vector representing a quantum state.\n",
    "\n",
    "For example, the state vector of a qubit can be written as:\n",
    "\n",
    "$$\n",
    "|\\psi\\rangle = \\alpha |0\\rangle + \\beta |1\\rangle\n",
    "$$\n",
    "\n",
    "where:\n",
    "- $|0\\rangle = \\begin{bmatrix} 1 \\\\ 0 \\end{bmatrix}$ and $|1\\rangle = \\begin{bmatrix} 0 \\\\ 1 \\end{bmatrix}$,\n",
    "- $\\alpha, \\beta \\in \\mathbb{C}$,\n",
    "- $|\\alpha|^2 + |\\beta|^2 = 1$ (normalization condition).\n",
    "\n",
    "---\n",
    "\n",
    "### 2. Bra Vector\n",
    "A **bra** represents the Hermitian conjugate (complex conjugate transpose) of a ket, denoted as:\n",
    "\n",
    "$$\n",
    "\\langle\\psi|\n",
    "$$\n",
    "\n",
    "For a ket $|\\psi\\rangle$, the corresponding bra is:\n",
    "\n",
    "$$\n",
    "\\langle\\psi| = |\\psi\\rangle^\\dagger\n",
    "$$\n",
    "\n",
    "Example:\n",
    "\n",
    "If $|\\psi\\rangle = \\begin{bmatrix} \\alpha \\\\ \\beta \\end{bmatrix}$, then:\n",
    "\n",
    "$$\n",
    "\\langle\\psi| = \\begin{bmatrix} \\alpha^* & \\beta^* \\end{bmatrix}\n",
    "$$\n",
    "\n",
    "---\n",
    "\n",
    "### 3. Inner Product (Bra-Ket)\n",
    "The inner product of two states $|\\phi\\rangle$ and $|\\psi\\rangle$ is a scalar defined as:\n",
    "\n",
    "$$\n",
    "\\langle\\phi|\\psi\\rangle\n",
    "$$\n",
    "\n",
    "This measures the \"overlap\" between the two quantum states. If:\n",
    "\n",
    "$$\n",
    "|\\phi\\rangle = \\begin{bmatrix} \\phi_1 \\\\ \\phi_2 \\end{bmatrix}, \\quad |\\psi\\rangle = \\begin{bmatrix} \\psi_1 \\\\ \\psi_2 \\end{bmatrix},\n",
    "$$\n",
    "\n",
    "then:\n",
    "\n",
    "$$\n",
    "\\langle\\phi|\\psi\\rangle = \\phi_1^* \\psi_1 + \\phi_2^* \\psi_2\n",
    "$$\n",
    "\n",
    "---\n",
    "\n",
    "### 4. Outer Product (Ket-Bra)\n",
    "The outer product of $|\\psi\\rangle$ and $|\\phi\\rangle$ is a matrix defined as:\n",
    "\n",
    "$$\n",
    "|\\psi\\rangle\\langle\\phi|\n",
    "$$\n",
    "\n",
    "This is used to construct projection operators. If:\n",
    "\n",
    "$$\n",
    "|\\psi\\rangle = \\begin{bmatrix} \\psi_1 \\\\ \\psi_2 \\end{bmatrix}, \\quad \\langle\\phi| = \\begin{bmatrix} \\phi_1^* & \\phi_2^* \\end{bmatrix},\n",
    "$$\n",
    "\n",
    "then:\n",
    "\n",
    "$$\n",
    "|\\psi\\rangle\\langle\\phi| = \\begin{bmatrix} \\psi_1 \\\\ \\psi_2 \\end{bmatrix} \\begin{bmatrix} \\phi_1^* & \\phi_2^* \\end{bmatrix} = \\begin{bmatrix} \\psi_1 \\phi_1^* & \\psi_1 \\phi_2^* \\\\ \\psi_2 \\phi_1^* & \\psi_2 \\phi_2^* \\end{bmatrix}\n",
    "$$\n",
    "\n",
    "---\n",
    "\n",
    "### 5. Normalization of States\n",
    "A quantum state $|\\psi\\rangle$ is normalized if:\n",
    "\n",
    "$$\n",
    "\\langle\\psi|\\psi\\rangle = 1\n",
    "$$\n",
    "\n",
    "---\n",
    "\n",
    "### 6. Observables and Expectation Values\n",
    "An observable $\\hat{O}$ is a Hermitian operator. The expectation value of $\\hat{O}$ in the state $|\\psi\\rangle$ is:\n",
    "\n",
    "$$\n",
    "\\langle\\psi|\\hat{O}|\\psi\\rangle\n",
    "$$\n",
    "\n",
    "---\n",
    "\n",
    "Bra-Ket notation is fundamental in quantum mechanics and quantum computing for describing states, computing probabilities, and analyzing transformations in Hilbert space."
   ]
  },
  {
   "cell_type": "code",
   "execution_count": 1,
   "metadata": {},
   "outputs": [],
   "source": [
    "import numpy as np\n",
    "import sympy as sp"
   ]
  },
  {
   "cell_type": "code",
   "execution_count": 11,
   "metadata": {},
   "outputs": [
    {
     "data": {
      "text/latex": [
       "$\\displaystyle \\left[\\begin{matrix}0\\\\1\\end{matrix}\\right]$"
      ],
      "text/plain": [
       "Matrix([\n",
       "[0],\n",
       "[1]])"
      ]
     },
     "execution_count": 11,
     "metadata": {},
     "output_type": "execute_result"
    }
   ],
   "source": [
    "ket_0 = np.array([[0],\n",
    "                  [1]])\n",
    "sp.Matrix(ket_0)"
   ]
  },
  {
   "cell_type": "code",
   "execution_count": 12,
   "metadata": {},
   "outputs": [
    {
     "data": {
      "text/latex": [
       "$\\displaystyle \\left[\\begin{matrix}1\\\\0\\end{matrix}\\right]$"
      ],
      "text/plain": [
       "Matrix([\n",
       "[1],\n",
       "[0]])"
      ]
     },
     "execution_count": 12,
     "metadata": {},
     "output_type": "execute_result"
    }
   ],
   "source": [
    "ket_1 = np.array([[1],\n",
    "                  [0]])\n",
    "sp.Matrix(ket_1)"
   ]
  },
  {
   "cell_type": "code",
   "execution_count": 19,
   "metadata": {},
   "outputs": [
    {
     "name": "stdout",
     "output_type": "stream",
     "text": [
      "1.0\n"
     ]
    }
   ],
   "source": [
    "ket_0_lenght = np.sqrt(np.sum(ket_0)**2)\n",
    "print(ket_0_lenght)"
   ]
  },
  {
   "cell_type": "code",
   "execution_count": 21,
   "metadata": {},
   "outputs": [
    {
     "name": "stdout",
     "output_type": "stream",
     "text": [
      "1.0\n"
     ]
    }
   ],
   "source": [
    "ket_1_length = np.sqrt(np.vdot(ket_1,ket_1))\n",
    "print(ket_1_length)"
   ]
  },
  {
   "cell_type": "code",
   "execution_count": 22,
   "metadata": {},
   "outputs": [
    {
     "data": {
      "text/plain": [
       "0"
      ]
     },
     "execution_count": 22,
     "metadata": {},
     "output_type": "execute_result"
    }
   ],
   "source": [
    "np.vdot(ket_0,ket_1) # Orthogonal"
   ]
  },
  {
   "cell_type": "markdown",
   "metadata": {},
   "source": [
    "## **Kronecker Product**\n",
    "\n",
    "The **Kronecker product** (also known as the **tensor product**) is a mathematical operation used in quantum computing to combine two or more quantum systems into a larger system. It plays a key role in describing multi-qubit states.\n",
    "\n",
    "## Definition\n",
    "\n",
    "For two matrices $A \\in \\mathbb{C}^{m \\times n}$ and $B \\in \\mathbb{C}^{p \\times q}$, the Kronecker product $A \\otimes B$ is defined as:\n",
    "\n",
    "$$\n",
    "A \\otimes B =\n",
    "\\begin{bmatrix}\n",
    "a_{11} B & a_{12} B & \\cdots & a_{1n} B \\\\\n",
    "a_{21} B & a_{22} B & \\cdots & a_{2n} B \\\\\n",
    "\\vdots   & \\vdots   & \\ddots & \\vdots   \\\\\n",
    "a_{m1} B & a_{m2} B & \\cdots & a_{mn} B\n",
    "\\end{bmatrix}\n",
    "$$\n",
    "\n",
    "where each element of $A$ is multiplied by the entire matrix $B$.\n",
    "\n",
    "---\n",
    "\n",
    "## Example: Combining Two Qubits\n",
    "\n",
    "In quantum computing, the Kronecker product is used to describe the joint state of two or more qubits. For instance:\n",
    "\n",
    "- A single qubit in state $|0\\rangle$ is represented by the vector:\n",
    "\n",
    "$$\n",
    "|0\\rangle = \\begin{bmatrix} 1 \\\\ 0 \\end{bmatrix}, \\quad |1\\rangle = \\begin{bmatrix} 0 \\\\ 1 \\end{bmatrix}.\n",
    "$$\n",
    "\n",
    "- Consider two qubits in states $|0\\rangle$ and $|1\\rangle$. The combined state of the two qubits is given by the Kronecker product:\n",
    "\n",
    "$$\n",
    "|0\\rangle \\otimes |1\\rangle = \\begin{bmatrix} 1 \\\\ 0 \\end{bmatrix} \\otimes \\begin{bmatrix} 0 \\\\ 1 \\end{bmatrix}.\n",
    "$$\n",
    "\n",
    "To compute this, we apply the definition of the Kronecker product:\n",
    "\n",
    "$$\n",
    "|0\\rangle \\otimes |1\\rangle =\n",
    "\\begin{bmatrix}\n",
    "1 \\cdot \\begin{bmatrix} 0 \\\\ 1 \\end{bmatrix} \\\\\n",
    "0 \\cdot \\begin{bmatrix} 0 \\\\ 1 \\end{bmatrix}\n",
    "\\end{bmatrix} =\n",
    "\\begin{bmatrix}\n",
    "0 \\\\ 1 \\\\ 0 \\\\ 0\n",
    "\\end{bmatrix}.\n",
    "$$\n",
    "\n",
    "Thus, the joint state is:\n",
    "\n",
    "$$\n",
    "|0\\rangle \\otimes |1\\rangle = |01\\rangle = \\begin{bmatrix} 0 \\\\ 1 \\\\ 0 \\\\ 0 \\end{bmatrix}.\n",
    "$$\n",
    "\n",
    "---\n",
    "\n",
    "## General Multi-Qubit States\n",
    "\n",
    "For two general qubit states:\n",
    "\n",
    "$$\n",
    "|\\psi\\rangle = \\alpha_1 |0\\rangle + \\beta_1 |1\\rangle, \\quad |\\phi\\rangle = \\alpha_2 |0\\rangle + \\beta_2 |1\\rangle,\n",
    "$$\n",
    "\n",
    "the joint state $|\\psi\\rangle \\otimes |\\phi\\rangle$ is:\n",
    "\n",
    "$$\n",
    "|\\psi\\rangle \\otimes |\\phi\\rangle = (\\alpha_1 |0\\rangle + \\beta_1 |1\\rangle) \\otimes (\\alpha_2 |0\\rangle + \\beta_2 |1\\rangle).\n",
    "$$\n",
    "\n",
    "Expanding this:\n",
    "\n",
    "$$\n",
    "|\\psi\\rangle \\otimes |\\phi\\rangle = \\alpha_1 \\alpha_2 |00\\rangle + \\alpha_1 \\beta_2 |01\\rangle + \\beta_1 \\alpha_2 |10\\rangle + \\beta_1 \\beta_2 |11\\rangle.\n",
    "$$\n",
    "\n",
    "For example, if $|\\psi\\rangle = |+\\rangle = \\frac{1}{\\sqrt{2}}(|0\\rangle + |1\\rangle)$ and $|\\phi\\rangle = |-\\rangle = \\frac{1}{\\sqrt{2}}(|0\\rangle - |1\\rangle)$, their joint state is:\n",
    "\n",
    "$$\n",
    "|\\psi\\rangle \\otimes |\\phi\\rangle = \\frac{1}{2}(|00\\rangle - |01\\rangle + |10\\rangle - |11\\rangle).\n",
    "$$\n",
    "\n",
    "---\n",
    "\n",
    "## Properties of the Kronecker Product\n",
    "\n",
    "1. **Non-commutative**: $A \\otimes B \\neq B \\otimes A$ in general.\n",
    "2. **Associative**: $(A \\otimes B) \\otimes C = A \\otimes (B \\otimes C)$.\n",
    "3. **Distributive**: $A \\otimes (B + C) = A \\otimes B + A \\otimes C$.\n",
    "\n",
    "The Kronecker product is crucial for representing entangled states, multi-qubit gates, and quantum algorithms in quantum computing."
   ]
  },
  {
   "cell_type": "code",
   "execution_count": 24,
   "metadata": {},
   "outputs": [
    {
     "data": {
      "text/latex": [
       "$\\displaystyle \\left[\\begin{matrix}0\\\\0\\\\1\\\\0\\end{matrix}\\right]$"
      ],
      "text/plain": [
       "Matrix([\n",
       "[0],\n",
       "[0],\n",
       "[1],\n",
       "[0]])"
      ]
     },
     "execution_count": 24,
     "metadata": {},
     "output_type": "execute_result"
    }
   ],
   "source": [
    "ket_10 = np.kron(ket_0,ket_1)\n",
    "sp.Matrix(ket_10)"
   ]
  },
  {
   "cell_type": "markdown",
   "metadata": {},
   "source": [
    "## **Tensor Product**\n",
    "\n",
    "The **tensor product** is a fundamental operation in quantum mechanics used to describe the combined state of two or more quantum systems. In quantum computing, it is used to represent multi-qubit states.\n",
    "\n",
    "## Definition\n",
    "\n",
    "For two vectors $|\\psi\\rangle \\in \\mathbb{C}^m$ and $|\\phi\\rangle \\in \\mathbb{C}^n$, the tensor product $|\\psi\\rangle \\otimes |\\phi\\rangle$ is a vector in $\\mathbb{C}^{m \\cdot n}$, defined as:\n",
    "\n",
    "$$\n",
    "|\\psi\\rangle \\otimes |\\phi\\rangle =\n",
    "\\begin{bmatrix}\n",
    "\\psi_1 |\\phi\\rangle \\\\\n",
    "\\psi_2 |\\phi\\rangle \\\\\n",
    "\\vdots \\\\\n",
    "\\psi_m |\\phi\\rangle\n",
    "\\end{bmatrix}.\n",
    "$$\n",
    "\n",
    "The resulting vector has a length equal to the product of the lengths of $|\\psi\\rangle$ and $|\\phi\\rangle$.\n",
    "\n",
    "---\n",
    "\n",
    "## Example: Tensor Product of Two Qubits\n",
    "\n",
    "### Single Qubit States\n",
    "\n",
    "- A single qubit in the state $|0\\rangle$ is represented by:\n",
    "\n",
    "$$\n",
    "|0\\rangle = \\begin{bmatrix} 1 \\\\ 0 \\end{bmatrix}, \\quad |1\\rangle = \\begin{bmatrix} 0 \\\\ 1 \\end{bmatrix}.\n",
    "$$\n",
    "\n",
    "### Two Qubits\n",
    "\n",
    "To find the combined state of two qubits, $|0\\rangle$ and $|1\\rangle$, we compute their tensor product:\n",
    "\n",
    "$$\n",
    "|0\\rangle \\otimes |1\\rangle =\n",
    "\\begin{bmatrix} 1 \\\\ 0 \\end{bmatrix} \\otimes \\begin{bmatrix} 0 \\\\ 1 \\end{bmatrix}.\n",
    "$$\n",
    "\n",
    "Using the definition of the tensor product:\n",
    "\n",
    "$$\n",
    "|0\\rangle \\otimes |1\\rangle =\n",
    "\\begin{bmatrix}\n",
    "1 \\cdot \\begin{bmatrix} 0 \\\\ 1 \\end{bmatrix} \\\\\n",
    "0 \\cdot \\begin{bmatrix} 0 \\\\ 1 \\end{bmatrix}\n",
    "\\end{bmatrix} =\n",
    "\\begin{bmatrix}\n",
    "0 \\\\ 1 \\\\ 0 \\\\ 0\n",
    "\\end{bmatrix}.\n",
    "$$\n",
    "\n",
    "Thus, the combined state is:\n",
    "\n",
    "$$\n",
    "|0\\rangle \\otimes |1\\rangle = |01\\rangle = \\begin{bmatrix} 0 \\\\ 1 \\\\ 0 \\\\ 0 \\end{bmatrix}.\n",
    "$$\n",
    "\n",
    "---\n",
    "\n",
    "## General Multi-Qubit States\n",
    "\n",
    "For two general qubit states:\n",
    "\n",
    "$$\n",
    "|\\psi\\rangle = \\alpha_1 |0\\rangle + \\beta_1 |1\\rangle, \\quad |\\phi\\rangle = \\alpha_2 |0\\rangle + \\beta_2 |1\\rangle,\n",
    "$$\n",
    "\n",
    "their combined state $|\\psi\\rangle \\otimes |\\phi\\rangle$ is:\n",
    "\n",
    "$$\n",
    "|\\psi\\rangle \\otimes |\\phi\\rangle = (\\alpha_1 |0\\rangle + \\beta_1 |1\\rangle) \\otimes (\\alpha_2 |0\\rangle + \\beta_2 |1\\rangle).\n",
    "$$\n",
    "\n",
    "Expanding this:\n",
    "\n",
    "$$\n",
    "|\\psi\\rangle \\otimes |\\phi\\rangle = \\alpha_1 \\alpha_2 |00\\rangle + \\alpha_1 \\beta_2 |01\\rangle + \\beta_1 \\alpha_2 |10\\rangle + \\beta_1 \\beta_2 |11\\rangle.\n",
    "$$\n",
    "\n",
    "---\n",
    "\n",
    "## Example: Bell State\n",
    "\n",
    "The **Bell state** is an example of an entangled state created using the tensor product. Consider the states:\n",
    "\n",
    "$$\n",
    "|\\psi\\rangle = \\frac{1}{\\sqrt{2}}(|0\\rangle + |1\\rangle), \\quad |\\phi\\rangle = \\frac{1}{\\sqrt{2}}(|0\\rangle + |1\\rangle).\n",
    "$$\n",
    "\n",
    "Their combined state is:\n",
    "\n",
    "$$\n",
    "|\\psi\\rangle \\otimes |\\phi\\rangle = \\frac{1}{\\sqrt{2}}(|0\\rangle + |1\\rangle) \\otimes \\frac{1}{\\sqrt{2}}(|0\\rangle + |1\\rangle).\n",
    "$$\n",
    "\n",
    "Expanding this:\n",
    "\n",
    "$$\n",
    "|\\psi\\rangle \\otimes |\\phi\\rangle = \\frac{1}{2}(|00\\rangle + |01\\rangle + |10\\rangle + |11\\rangle).\n",
    "$$\n",
    "\n",
    "This is the unentangled joint state of the two qubits.\n",
    "\n",
    "---\n",
    "\n",
    "## Properties of the Tensor Product\n",
    "\n",
    "1. **Non-commutative**: $|\\psi\\rangle \\otimes |\\phi\\rangle \\neq |\\phi\\rangle \\otimes |\\psi\\rangle$ in general.\n",
    "2. **Associative**: $(|\\psi\\rangle \\otimes |\\phi\\rangle) \\otimes |\\chi\\rangle = |\\psi\\rangle \\otimes (|\\phi\\rangle \\otimes |\\chi\\rangle)$.\n",
    "3. **Distributive**: $|\\psi\\rangle \\otimes (|\\phi\\rangle + |\\chi\\rangle) = |\\psi\\rangle \\otimes |\\phi\\rangle + |\\psi\\rangle \\otimes |\\chi\\rangle$.\n",
    "\n",
    "---\n",
    "\n",
    "The tensor product is essential in quantum computing for modeling multi-qubit systems, quantum gates, and entanglement."
   ]
  }
 ],
 "metadata": {
  "kernelspec": {
   "display_name": "Quantum",
   "language": "python",
   "name": "python3"
  },
  "language_info": {
   "codemirror_mode": {
    "name": "ipython",
    "version": 3
   },
   "file_extension": ".py",
   "mimetype": "text/x-python",
   "name": "python",
   "nbconvert_exporter": "python",
   "pygments_lexer": "ipython3",
   "version": "3.12.1"
  }
 },
 "nbformat": 4,
 "nbformat_minor": 2
}
